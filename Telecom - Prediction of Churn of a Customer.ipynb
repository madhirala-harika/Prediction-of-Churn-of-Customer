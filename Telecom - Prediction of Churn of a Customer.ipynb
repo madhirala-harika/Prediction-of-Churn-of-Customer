{
 "cells": [
  {
   "cell_type": "markdown",
   "metadata": {},
   "source": [
    "# To predict the Churn of a customer for given Telecommunication data"
   ]
  },
  {
   "cell_type": "markdown",
   "metadata": {},
   "source": [
    "**Objective: ** To find the whether the customer will churn or not for a given customized set of inputs\n",
    "    \n",
    "1. Impact of Unbalanced datasets on performance of model predctions.\n",
    "2. Finding the churn of a customer with different models like KNN, SVC with RBF kernel, Random Forest and observations of difference in performances.\n",
    "3. Finding Important Features.\n",
    "4. Function to predict the Churn of a customer for given customized input."
   ]
  },
  {
   "cell_type": "markdown",
   "metadata": {},
   "source": [
    "**Load data to a Pandas DataFrame**"
   ]
  },
  {
   "cell_type": "code",
   "execution_count": 76,
   "metadata": {
    "scrolled": true
   },
   "outputs": [
    {
     "name": "stdout",
     "output_type": "stream",
     "text": [
      "Dataframe details:\n",
      "   State  Account Length  Area Code     Phone Int'l Plan VMail Plan  \\\n",
      "0    KS             128        415  382-4657         no        yes   \n",
      "1    OH             107        415  371-7191         no        yes   \n",
      "2    NJ             137        415  358-1921         no         no   \n",
      "3    OH              84        408  375-9999        yes         no   \n",
      "4    OK              75        415  330-6626        yes         no   \n",
      "\n",
      "   VMail Message  Day Mins  Day Calls  Day Charge   ...    Eve Calls  \\\n",
      "0             25     265.1        110       45.07   ...           99   \n",
      "1             26     161.6        123       27.47   ...          103   \n",
      "2              0     243.4        114       41.38   ...          110   \n",
      "3              0     299.4         71       50.90   ...           88   \n",
      "4              0     166.7        113       28.34   ...          122   \n",
      "\n",
      "   Eve Charge  Night Mins  Night Calls  Night Charge  Intl Mins  Intl Calls  \\\n",
      "0       16.78       244.7           91         11.01       10.0           3   \n",
      "1       16.62       254.4          103         11.45       13.7           3   \n",
      "2       10.30       162.6          104          7.32       12.2           5   \n",
      "3        5.26       196.9           89          8.86        6.6           7   \n",
      "4       12.61       186.9          121          8.41       10.1           3   \n",
      "\n",
      "   Intl Charge  CustServ Calls   Churn  \n",
      "0         2.70               1  False.  \n",
      "1         3.70               1  False.  \n",
      "2         3.29               0  False.  \n",
      "3         1.78               2  False.  \n",
      "4         2.73               3  False.  \n",
      "\n",
      "[5 rows x 21 columns]\n"
     ]
    }
   ],
   "source": [
    "import pandas as pd\n",
    "churn = pd.read_csv(r\"C:\\Users\\Harika\\Downloads\\churn1.csv\")\n",
    "churn.shape\n",
    "print(\"Dataframe details:\\n\", churn.head())"
   ]
  },
  {
   "cell_type": "code",
   "execution_count": 77,
   "metadata": {},
   "outputs": [
    {
     "name": "stdout",
     "output_type": "stream",
     "text": [
      "Counts for each class:\n",
      " False.    2850\n",
      "True.      483\n",
      "Name: Churn, dtype: int64\n"
     ]
    }
   ],
   "source": [
    "print(\"Counts for each class:\\n\", churn['Churn'].value_counts())"
   ]
  },
  {
   "cell_type": "markdown",
   "metadata": {},
   "source": [
    "**Detailed Information of the Input Data**"
   ]
  },
  {
   "cell_type": "code",
   "execution_count": 78,
   "metadata": {},
   "outputs": [
    {
     "name": "stdout",
     "output_type": "stream",
     "text": [
      "<class 'pandas.core.frame.DataFrame'>\n",
      "RangeIndex: 3333 entries, 0 to 3332\n",
      "Data columns (total 21 columns):\n",
      "State             3333 non-null object\n",
      "Account Length    3333 non-null int64\n",
      "Area Code         3333 non-null int64\n",
      "Phone             3333 non-null object\n",
      "Int'l Plan        3333 non-null object\n",
      "VMail Plan        3333 non-null object\n",
      "VMail Message     3333 non-null int64\n",
      "Day Mins          3333 non-null float64\n",
      "Day Calls         3333 non-null int64\n",
      "Day Charge        3333 non-null float64\n",
      "Eve Mins          3333 non-null float64\n",
      "Eve Calls         3333 non-null int64\n",
      "Eve Charge        3333 non-null float64\n",
      "Night Mins        3333 non-null float64\n",
      "Night Calls       3333 non-null int64\n",
      "Night Charge      3333 non-null float64\n",
      "Intl Mins         3333 non-null float64\n",
      "Intl Calls        3333 non-null int64\n",
      "Intl Charge       3333 non-null float64\n",
      "CustServ Calls    3333 non-null int64\n",
      "Churn             3333 non-null object\n",
      "dtypes: float64(8), int64(8), object(5)\n",
      "memory usage: 546.9+ KB\n",
      "None\n"
     ]
    }
   ],
   "source": [
    "print(churn.info())"
   ]
  },
  {
   "cell_type": "code",
   "execution_count": 79,
   "metadata": {},
   "outputs": [
    {
     "name": "stdout",
     "output_type": "stream",
     "text": [
      "List of column names in dataset:\n",
      " ['State', 'Account Length', 'Area Code', 'Phone', \"Int'l Plan\", 'VMail Plan', 'VMail Message', 'Day Mins', 'Day Calls', 'Day Charge', 'Eve Mins', 'Eve Calls', 'Eve Charge', 'Night Mins', 'Night Calls', 'Night Charge', 'Intl Mins', 'Intl Calls', 'Intl Charge', 'CustServ Calls', 'Churn']\n"
     ]
    }
   ],
   "source": [
    "#List of columns in dataset\n",
    "col_names = list(churn.columns)\n",
    "print(\"List of column names in dataset:\\n\", col_names)"
   ]
  },
  {
   "cell_type": "code",
   "execution_count": 80,
   "metadata": {},
   "outputs": [
    {
     "data": {
      "text/plain": [
       "<matplotlib.axes._subplots.AxesSubplot at 0x194c371cb70>"
      ]
     },
     "execution_count": 80,
     "metadata": {},
     "output_type": "execute_result"
    },
    {
     "data": {
      "image/png": "[encoded data removed]",
      "text/plain": [
       "<matplotlib.figure.Figure at 0x194c371c550>"
      ]
     },
     "metadata": {},
     "output_type": "display_data"
    }
   ],
   "source": [
    "#Heatmap to find Correlation of variables\n",
    "import matplotlib.pyplot as plt\n",
    "import numpy as np\n",
    "import seaborn as sns\n",
    "f, ax = plt.subplots(figsize=(10, 8))\n",
    "corr = churn.corr()\n",
    "sns.heatmap(corr, mask=np.zeros_like(corr, dtype=np.bool), cmap=sns.diverging_palette(220, 10, as_cmap=True),\n",
    "            square=True, ax=ax)"
   ]
  },
  {
   "cell_type": "markdown",
   "metadata": {},
   "source": [
    "**Observations**\n",
    "\n",
    "1.Charge for a cal and Minutes of call are positively correlated with each other\n",
    "\n",
    "2.(Day Charge, Day Mins) , (Eve Charge, Eve Mins), (Night Charge, Night Mins), (Intl Charge, Intl Mins) are positively correlated"
   ]
  },
  {
   "cell_type": "code",
   "execution_count": 81,
   "metadata": {},
   "outputs": [
    {
     "name": "stdout",
     "output_type": "stream",
     "text": [
      "Shape of class label dataframe:  (3333,)\n"
     ]
    }
   ],
   "source": [
    "#Creating dataframe to store class labels\n",
    "df_class_label = churn['Churn']\n",
    "print(\"Shape of class label dataframe: \",df_class_label.shape)\n",
    "\n",
    "#Converting Churn Class label in to Numpy array by removing trailing '.' from the values\n",
    "def remtrail(dataframe):\n",
    "    churn_class_label = np.array(dataframe)\n",
    "    churn_cl = np.array([i[:-1] for i in churn_class_label])\n",
    "    return churn_cl\n"
   ]
  },
  {
   "cell_type": "code",
   "execution_count": 82,
   "metadata": {},
   "outputs": [
    {
     "name": "stdout",
     "output_type": "stream",
     "text": [
      "Shape of Dataframe after dropping columns:  (3333, 19)\n"
     ]
    }
   ],
   "source": [
    "#Dropping 'Phone', 'Churn' columns as 'phone' doesnt add any value while training model and Churn is the Class label\n",
    "cols_to_drop = ['Phone', 'Churn']\n",
    "churn_final = churn.drop(cols_to_drop,axis=1)\n",
    "print(\"Shape of Dataframe after dropping columns: \",churn_final.shape)"
   ]
  },
  {
   "cell_type": "code",
   "execution_count": 83,
   "metadata": {},
   "outputs": [
    {
     "name": "stdout",
     "output_type": "stream",
     "text": [
      "Categorail columns present in dataset:\n",
      "      State Int'l Plan VMail Plan\n",
      "0       KS         no        yes\n",
      "1       OH         no        yes\n",
      "2       NJ         no         no\n",
      "3       OH        yes         no\n",
      "4       OK        yes         no\n",
      "5       AL        yes         no\n",
      "6       MA         no        yes\n",
      "7       MO        yes         no\n",
      "8       LA         no         no\n",
      "9       WV        yes        yes\n",
      "10      IN         no         no\n",
      "11      RI         no         no\n",
      "12      IA         no         no\n",
      "13      MT         no         no\n",
      "14      IA         no         no\n",
      "15      NY         no         no\n",
      "16      ID         no        yes\n",
      "17      VT         no         no\n",
      "18      VA         no        yes\n",
      "19      TX         no         no\n",
      "20      FL         no         no\n",
      "21      CO         no         no\n",
      "22      AZ         no         no\n",
      "23      SC         no         no\n",
      "24      VA         no         no\n",
      "25      NE         no         no\n",
      "26      WY         no        yes\n",
      "27      MT         no         no\n",
      "28      MO         no         no\n",
      "29      HI         no         no\n",
      "...    ...        ...        ...\n",
      "3303    WI         no        yes\n",
      "3304    IL        yes         no\n",
      "3305    IN         no        yes\n",
      "3306    AL         no        yes\n",
      "3307    OK         no         no\n",
      "3308    IA         no         no\n",
      "3309    VT        yes         no\n",
      "3310    NY         no         no\n",
      "3311    LA         no         no\n",
      "3312    SC         no         no\n",
      "3313    ID         no         no\n",
      "3314    MO         no         no\n",
      "3315    ME         no        yes\n",
      "3316    MS         no        yes\n",
      "3317    SD        yes         no\n",
      "3318    OK         no         no\n",
      "3319    WY         no         no\n",
      "3320    GA        yes         no\n",
      "3321    VT         no         no\n",
      "3322    MD         no         no\n",
      "3323    IN         no         no\n",
      "3324    WV         no         no\n",
      "3325    OH         no         no\n",
      "3326    OH         no         no\n",
      "3327    SC         no         no\n",
      "3328    AZ         no        yes\n",
      "3329    WV         no         no\n",
      "3330    RI         no         no\n",
      "3331    CT        yes         no\n",
      "3332    TN         no        yes\n",
      "\n",
      "[3333 rows x 3 columns]\n"
     ]
    }
   ],
   "source": [
    "#Finding Categorial columns in the dataset\n",
    "churn_categorical =   churn_final.select_dtypes(include=[object])\n",
    "print(\"Categorail columns present in dataset:\\n\", churn_categorical)"
   ]
  },
  {
   "cell_type": "code",
   "execution_count": 84,
   "metadata": {},
   "outputs": [
    {
     "name": "stdout",
     "output_type": "stream",
     "text": [
      "Head of dataframe after converting to boolean values for 2 columns:\n",
      "   State  Account Length  Area Code  Int'l Plan  VMail Plan  VMail Message  \\\n",
      "0    KS             128        415       False        True             25   \n",
      "1    OH             107        415       False        True             26   \n",
      "2    NJ             137        415       False       False              0   \n",
      "3    OH              84        408        True       False              0   \n",
      "4    OK              75        415        True       False              0   \n",
      "\n",
      "   Day Mins  Day Calls  Day Charge  Eve Mins  Eve Calls  Eve Charge  \\\n",
      "0     265.1        110       45.07     197.4         99       16.78   \n",
      "1     161.6        123       27.47     195.5        103       16.62   \n",
      "2     243.4        114       41.38     121.2        110       10.30   \n",
      "3     299.4         71       50.90      61.9         88        5.26   \n",
      "4     166.7        113       28.34     148.3        122       12.61   \n",
      "\n",
      "   Night Mins  Night Calls  Night Charge  Intl Mins  Intl Calls  Intl Charge  \\\n",
      "0       244.7           91         11.01       10.0           3         2.70   \n",
      "1       254.4          103         11.45       13.7           3         3.70   \n",
      "2       162.6          104          7.32       12.2           5         3.29   \n",
      "3       196.9           89          8.86        6.6           7         1.78   \n",
      "4       186.9          121          8.41       10.1           3         2.73   \n",
      "\n",
      "   CustServ Calls  \n",
      "0               1  \n",
      "1               1  \n",
      "2               0  \n",
      "3               2  \n",
      "4               3  \n"
     ]
    }
   ],
   "source": [
    "#Converting categorail columns \"Int'l Plan\",\"VMail Plan\" into Boolean values inorder to pass into model\n",
    "yes_no_cols = [\"Int'l Plan\",\"VMail Plan\"]\n",
    "churn_final[yes_no_cols] = churn_final[yes_no_cols] == 'yes'\n",
    "print(\"Head of dataframe after converting to boolean values for 2 columns:\\n\", churn_final.head())\n"
   ]
  },
  {
   "cell_type": "markdown",
   "metadata": {},
   "source": [
    "**One Hot Encoding to convert 'State' Categorial value to a Numerical vector of dimensions equal to no. of categories of State variable**"
   ]
  },
  {
   "cell_type": "code",
   "execution_count": 85,
   "metadata": {},
   "outputs": [
    {
     "name": "stdout",
     "output_type": "stream",
     "text": [
      "Churn data size before One Hot encoding:  (3333, 19)\n",
      "****************************************************************************************************\n",
      "No of unique states in State variable:  51\n",
      "****************************************************************************************************\n",
      "Head of dataframe after Response encoding:\n",
      "    Account Length  Area Code  Int'l Plan  VMail Plan  VMail Message  Day Mins  \\\n",
      "0             128        415       False        True             25     265.1   \n",
      "1             107        415       False        True             26     161.6   \n",
      "2             137        415       False       False              0     243.4   \n",
      "3              84        408        True       False              0     299.4   \n",
      "4              75        415        True       False              0     166.7   \n",
      "\n",
      "   Day Calls  Day Charge  Eve Mins  Eve Calls    ...     State_SD  State_TN  \\\n",
      "0        110       45.07     197.4         99    ...            0         0   \n",
      "1        123       27.47     195.5        103    ...            0         0   \n",
      "2        114       41.38     121.2        110    ...            0         0   \n",
      "3         71       50.90      61.9         88    ...            0         0   \n",
      "4        113       28.34     148.3        122    ...            0         0   \n",
      "\n",
      "   State_TX  State_UT  State_VA  State_VT  State_WA  State_WI  State_WV  \\\n",
      "0         0         0         0         0         0         0         0   \n",
      "1         0         0         0         0         0         0         0   \n",
      "2         0         0         0         0         0         0         0   \n",
      "3         0         0         0         0         0         0         0   \n",
      "4         0         0         0         0         0         0         0   \n",
      "\n",
      "   State_WY  \n",
      "0         0  \n",
      "1         0  \n",
      "2         0  \n",
      "3         0  \n",
      "4         0  \n",
      "\n",
      "[5 rows x 69 columns]\n",
      "****************************************************************************************************\n",
      "Churn data size after Response encoding:  (3333, 69)\n",
      "****************************************************************************************************\n",
      "Shape of Churn Matrix (3333, 69)\n"
     ]
    }
   ],
   "source": [
    "print('Churn data size before One Hot encoding: ',churn_final.shape)\n",
    "print('*' * 100)\n",
    "print('No of unique states in State variable: ',churn_final['State'].nunique())\n",
    "print('*' * 100)\n",
    "\n",
    "#Give the feature and columns to one hot encode in 'columns' and column rename prefix in 'prefix'\n",
    "churn_dumm=pd.get_dummies(churn_final, columns=[\"State\"], prefix=[\"State\"])\n",
    "print(\"Head of dataframe after Response encoding:\\n\", churn_dumm.head())\n",
    "print('*' * 100)\n",
    "print('Churn data size after Response encoding: ',churn_dumm.shape)\n",
    "print('*' * 100)\n",
    "\n",
    "#converting to numpy matrix\n",
    "import numpy as np\n",
    "churn_array = np.array(churn_dumm)\n",
    "print(\"Shape of Churn Matrix\", churn_array.shape)"
   ]
  },
  {
   "cell_type": "markdown",
   "metadata": {},
   "source": [
    "**Standarization of data to make Scale Independent**"
   ]
  },
  {
   "cell_type": "code",
   "execution_count": 87,
   "metadata": {},
   "outputs": [],
   "source": [
    "#Standardize the data by removing the mean and scaling to unit variance\n",
    "from sklearn.preprocessing import StandardScaler\n",
    "def standardization(array):  \n",
    "    scaler = StandardScaler()\n",
    "#Fit to data, then transform it.\n",
    "    churn_stand_data = scaler.fit_transform(array)\n",
    "    return churn_stand_data"
   ]
  },
  {
   "cell_type": "code",
   "execution_count": 88,
   "metadata": {},
   "outputs": [
    {
     "name": "stdout",
     "output_type": "stream",
     "text": [
      "Shape of Standardized data (3333, 69)\n"
     ]
    },
    {
     "name": "stderr",
     "output_type": "stream",
     "text": [
      "C:\\Anaconda\\lib\\site-packages\\sklearn\\utils\\validation.py:475: DataConversionWarning: Data with input dtype object was converted to float64 by StandardScaler.\n",
      "  warnings.warn(msg, DataConversionWarning)\n"
     ]
    }
   ],
   "source": [
    "#Call Standardization function\n",
    "churn_stand_data = standardization(churn_array)\n",
    "print(\"Shape of Standardized data\", churn_stand_data.shape)"
   ]
  },
  {
   "cell_type": "code",
   "execution_count": 92,
   "metadata": {},
   "outputs": [],
   "source": [
    "# Splitiing of data to test and train\n",
    "from sklearn.cross_validation import train_test_split\n",
    "def split_data(x,y):\n",
    "    train_data,test_data, train_label, test_label = train_test_split(x, y, test_size=.15,random_state=42)\n",
    "    return train_data, test_data, train_label, test_label"
   ]
  },
  {
   "cell_type": "code",
   "execution_count": 97,
   "metadata": {},
   "outputs": [
    {
     "name": "stdout",
     "output_type": "stream",
     "text": [
      "Shape of class label (3333,)\n",
      "Shape of train_data (2833, 69)\n",
      "Shape of train_label (2833,)\n",
      "Shape of test_data (500, 69)\n",
      "Shape of test_label (500,)\n"
     ]
    }
   ],
   "source": [
    "churn_lab = remtrail(df_class_label)\n",
    "print(\"Shape of class label\", churn_lab.shape)\n",
    "\n",
    "#Call train_test_split function\n",
    "train_data, test_data, train_label, test_label = split_data(churn_stand_data, churn_lab)\n",
    "print(\"Shape of train_data\", train_data.shape)\n",
    "print(\"Shape of train_label\", train_label.shape)\n",
    "print(\"Shape of test_data\", test_data.shape)\n",
    "print(\"Shape of test_label\", test_label.shape)"
   ]
  },
  {
   "cell_type": "markdown",
   "metadata": {},
   "source": [
    "**Base Model: KNN**\n",
    "\n",
    "GridSearchCV to find optimal Nearest Neighbours"
   ]
  },
  {
   "cell_type": "code",
   "execution_count": 98,
   "metadata": {},
   "outputs": [
    {
     "name": "stdout",
     "output_type": "stream",
     "text": [
      "Classifier with optimal nearest Neighbours:\n",
      " KNeighborsClassifier(algorithm='auto', leaf_size=30, metric='minkowski',\n",
      "           metric_params=None, n_jobs=1, n_neighbors=7, p=2,\n",
      "           weights='uniform')\n",
      "****************************************************************************************************\n",
      "Best Score with optimal nearest Neighbours:  0.8595128838686904\n",
      "****************************************************************************************************\n",
      "Optimal nearest Neighbours are:  {'n_neighbors': 7}\n",
      "****************************************************************************************************\n",
      "Accuracy score obtained on Test data is:  0.842\n"
     ]
    }
   ],
   "source": [
    "from sklearn.neighbors import KNeighborsClassifier\n",
    "from sklearn.model_selection import GridSearchCV\n",
    "tuned_parameters = {'n_neighbors': [1,2,3,4,5,6,7,8,9,10]}\n",
    "\n",
    "clf_knn = GridSearchCV(KNeighborsClassifier(), tuned_parameters, cv =10, n_jobs = -1, scoring = 'accuracy')\n",
    "clf_knn.fit(train_data, train_label)\n",
    "\n",
    "print(\"Classifier with optimal nearest Neighbours:\\n\", clf_knn.best_estimator_)\n",
    "print('*' * 100)\n",
    "#print(\"Grid Scores \\n\", clf.grid_scores_)\n",
    "#print('*' * 100)\n",
    "print(\"Best Score with optimal nearest Neighbours: \", clf_knn.best_score_)\n",
    "print('*' * 100)\n",
    "print(\"Optimal nearest Neighbours are: \", clf_knn.best_params_)\n",
    "print('*' * 100)\n",
    "#Calculate metrics\n",
    "print(\"Accuracy score obtained on Test data is: \", clf_knn.score(test_data, test_label))"
   ]
  },
  {
   "cell_type": "code",
   "execution_count": 99,
   "metadata": {},
   "outputs": [
    {
     "name": "stdout",
     "output_type": "stream",
     "text": [
      "Confusion Matrix\n",
      " [[419   3]\n",
      " [ 76   2]]\n",
      "True Negative:  419\n",
      "Flase Positive:  3\n",
      "False Negative:  76\n",
      "True Positive:  2\n",
      "****************************************************************************************************\n",
      "Precision for optimal Parameters is:  0.4\n",
      "****************************************************************************************************\n",
      "Recall Score for optimal Parameters is:  0.02564102564102564\n",
      "****************************************************************************************************\n",
      "f1 Score for Optimal Parameters is:  0.048192771084337345\n",
      "****************************************************************************************************\n",
      "Accuracy for Otimal Parameters is:  0.842\n"
     ]
    }
   ],
   "source": [
    "from sklearn.metrics import f1_score\n",
    "from sklearn.metrics import confusion_matrix\n",
    "from sklearn.metrics import precision_score\n",
    "from sklearn.metrics import recall_score\n",
    "from sklearn.metrics import accuracy_score\n",
    "\n",
    "clf_knn1 = KNeighborsClassifier(n_neighbors = 7, n_jobs = -1)\n",
    "clf_knn1.fit(train_data, train_label)\n",
    "pred_knn = clf_knn1.predict(test_data)\n",
    "\n",
    "# Calculate Confusion matrix\n",
    "mat = confusion_matrix(test_label, pred_knn)\n",
    "print(\"Confusion Matrix\\n\", mat)\n",
    "tn, fp, fn, tp = mat.ravel()\n",
    "print(\"True Negative: \", tn)\n",
    "print(\"Flase Positive: \", fp)\n",
    "print(\"False Negative: \", fn)\n",
    "print(\"True Positive: \", tp)\n",
    "print('*' * 100)\n",
    "\n",
    "# Calculate Precision Score\n",
    "pre = precision_score(test_label, pred_knn, pos_label = 'True', average = 'binary')\n",
    "print('Precision for optimal Parameters is: ', pre)\n",
    "print('*' * 100)\n",
    "\n",
    "# Calculate Recall Score\n",
    "rec = recall_score(test_label, pred_knn, pos_label = 'True', average = 'binary')\n",
    "print('Recall Score for optimal Parameters is: ', rec)\n",
    "print('*' * 100)\n",
    "\n",
    "# Calculate f1 Score\n",
    "f1 = f1_score(test_label, pred_knn, pos_label = 'True', average = 'binary')\n",
    "print('f1 Score for Optimal Parameters is: ', f1)\n",
    "acc = accuracy_score(test_label,pred_knn)\n",
    "print('*' * 100)\n",
    "print(\"Accuracy for Otimal Parameters is: \", acc)"
   ]
  },
  {
   "cell_type": "markdown",
   "metadata": {},
   "source": [
    "**Observation**\n",
    "\n",
    "1. Out of 500 test values 421 values were predicted Correctly, hence accuracy is 84.2% which is reasonable good.\n",
    "2. Out of correctly predicted 421 values, 419 values belongs to 'False' Category. That means only 2 were predicted correctly as 'True' out of 78 'True' test values which is very bad. It results in false predictions of not churning a customer even if the ground truth of customer churning."
   ]
  },
  {
   "cell_type": "markdown",
   "metadata": {},
   "source": [
    "**Balancing of datset**"
   ]
  },
  {
   "cell_type": "code",
   "execution_count": 109,
   "metadata": {},
   "outputs": [
    {
     "name": "stdout",
     "output_type": "stream",
     "text": [
      "(3333, 70)\n"
     ]
    }
   ],
   "source": [
    "#Add Churn Column to churn_dumm dataframe\n",
    "churn_dumm['Churn'] = churn['Churn']\n",
    "print(churn_dumm.shape)"
   ]
  },
  {
   "cell_type": "markdown",
   "metadata": {},
   "source": [
    "**Upsampling**"
   ]
  },
  {
   "cell_type": "code",
   "execution_count": 110,
   "metadata": {},
   "outputs": [
    {
     "name": "stdout",
     "output_type": "stream",
     "text": [
      "counts of each class before upsampling:\n",
      " False.    2850\n",
      "True.      483\n",
      "Name: Churn, dtype: int64\n",
      "****************************************************************************************************\n",
      "Shape of majority class (2850, 70)\n",
      "****************************************************************************************************\n",
      "Shape of minority class (483, 70)\n",
      "****************************************************************************************************\n",
      "Shape of upsampled minority class (2850, 70)\n",
      "****************************************************************************************************\n",
      "Shape of Balanced dataset (5700, 70)\n",
      "****************************************************************************************************\n",
      "Counts for each value\n",
      " False.    2850\n",
      "True.     2850\n",
      "Name: Churn, dtype: int64\n"
     ]
    }
   ],
   "source": [
    "from sklearn.utils import resample\n",
    "import pandas as pd\n",
    "print(\"counts of each class before upsampling:\\n\", churn['Churn'].value_counts())\n",
    "print('*' * 100)\n",
    "\n",
    "df_majority = churn_dumm[churn_dumm.Churn == 'False.']\n",
    "df_minority = churn_dumm[churn_dumm.Churn == 'True.']\n",
    "print('Shape of majority class', df_majority.shape)\n",
    "print('*' * 100)\n",
    "print('Shape of minority class', df_minority.shape)\n",
    "print('*' * 100)\n",
    "df_minority_upsample = resample(df_minority, replace = True, n_samples = 2850, random_state = 42)\n",
    "print('Shape of upsampled minority class', df_minority_upsample.shape)\n",
    "print('*' * 100)\n",
    "frames = [df_majority, df_minority_upsample]\n",
    "df_balance = pd.concat(frames)\n",
    "print(\"Shape of Balanced dataset\", df_balance.shape)\n",
    "print('*' * 100)\n",
    "print(\"Counts for each value\\n\", df_balance['Churn'].value_counts())"
   ]
  },
  {
   "cell_type": "code",
   "execution_count": 111,
   "metadata": {},
   "outputs": [
    {
     "name": "stdout",
     "output_type": "stream",
     "text": [
      "Shape of Balanced class label (5700,)\n",
      "Shape of balanced array (5700, 69)\n",
      "Shape of Train data (4845, 69)\n",
      "Shape of Test data (855, 69)\n",
      "Shape of train Class label (4845,)\n",
      "Shape of test Class label (855,)\n"
     ]
    },
    {
     "name": "stderr",
     "output_type": "stream",
     "text": [
      "C:\\Anaconda\\lib\\site-packages\\sklearn\\utils\\validation.py:475: DataConversionWarning: Data with input dtype object was converted to float64 by StandardScaler.\n",
      "  warnings.warn(msg, DataConversionWarning)\n"
     ]
    }
   ],
   "source": [
    "df_churn_bal = df_balance['Churn']\n",
    "df_bal = df_balance.drop(labels = 'Churn', axis = 1)\n",
    "# Call Remtrail function to remove trailing '.' from class label\n",
    "churn_lab_balance = remtrail(df_churn_bal)\n",
    "print(\"Shape of Balanced class label\", churn_lab_balance.shape)\n",
    "#Convert balanced dataframe to array to pass thoriugh model\n",
    "churn_array_balance = np.array(df_bal)\n",
    "\n",
    "#Call Standardization function\n",
    "churn_stand_bal = standardization(churn_array_balance)\n",
    "print(\"Shape of balanced array\", churn_stand_bal.shape)\n",
    "\n",
    "#Call Splitting function\n",
    "train_data_bal, test_data_bal, train_label_bal, test_label_bal = split_data(churn_stand_bal, churn_lab_balance)\n",
    "print(\"Shape of Train data\", train_data_bal.shape)\n",
    "print(\"Shape of Test data\", test_data_bal.shape)\n",
    "print(\"Shape of train Class label\", train_label_bal.shape)\n",
    "print(\"Shape of test Class label\", test_label_bal.shape)"
   ]
  },
  {
   "cell_type": "markdown",
   "metadata": {},
   "source": [
    "**Basic Model - KNN Classifier on Balanced dataset**\n",
    "\n",
    "GridSearchCV to find optimal nearest neughbors"
   ]
  },
  {
   "cell_type": "code",
   "execution_count": 112,
   "metadata": {},
   "outputs": [
    {
     "name": "stdout",
     "output_type": "stream",
     "text": [
      "Classifier with optimal nearest Neighbours:\n",
      " KNeighborsClassifier(algorithm='auto', leaf_size=30, metric='minkowski',\n",
      "           metric_params=None, n_jobs=1, n_neighbors=1, p=2,\n",
      "           weights='uniform')\n",
      "****************************************************************************************************\n",
      "Best Score with optimal nearest Neighbours:  0.9547987616099072\n",
      "****************************************************************************************************\n",
      "Optimal nearest Neighbours are:  {'n_neighbors': 1}\n",
      "****************************************************************************************************\n",
      "Accuracy score obtained on Test data is:  0.960233918128655\n"
     ]
    }
   ],
   "source": [
    "from sklearn.neighbors import KNeighborsClassifier\n",
    "from sklearn.model_selection import GridSearchCV\n",
    "tuned_parameters = {'n_neighbors': [1,2,3,4,5,6,7,8,9,10]}\n",
    "\n",
    "clf_knn_bal = GridSearchCV(KNeighborsClassifier(), tuned_parameters, cv =10, n_jobs = -1, scoring = 'accuracy')\n",
    "clf_knn_bal.fit(train_data_bal, train_label_bal)\n",
    "\n",
    "print(\"Classifier with optimal nearest Neighbours:\\n\", clf_knn_bal.best_estimator_)\n",
    "print('*' * 100)\n",
    "#print(\"Grid Scores \\n\", clf.grid_scores_)\n",
    "#print('*' * 100)\n",
    "print(\"Best Score with optimal nearest Neighbours: \", clf_knn_bal.best_score_)\n",
    "print('*' * 100)\n",
    "print(\"Optimal nearest Neighbours are: \", clf_knn_bal.best_params_)\n",
    "print('*' * 100)\n",
    "#Calculate metrics\n",
    "print(\"Accuracy score obtained on Test data is: \", clf_knn_bal.score(test_data_bal, test_label_bal))"
   ]
  },
  {
   "cell_type": "markdown",
   "metadata": {},
   "source": [
    "**KNN classifier with n_neighbors = 1 on Balanced dataset**"
   ]
  },
  {
   "cell_type": "code",
   "execution_count": 113,
   "metadata": {},
   "outputs": [
    {
     "name": "stdout",
     "output_type": "stream",
     "text": [
      "Confusion Matrix\n",
      " [[406  33]\n",
      " [  1 415]]\n",
      "True Negative:  406\n",
      "Flase Positive:  33\n",
      "False Negative:  1\n",
      "True Positive:  415\n",
      "****************************************************************************************************\n",
      "Precision for optimal Parameters is:  0.9263392857142857\n",
      "****************************************************************************************************\n",
      "Recall Score for optimal Parameters is:  0.9975961538461539\n",
      "****************************************************************************************************\n",
      "f1 Score for Optimal Parameters is:  0.9606481481481481\n",
      "****************************************************************************************************\n",
      "Accuracy for Otimal Parameters is:  0.960233918128655\n"
     ]
    }
   ],
   "source": [
    "from sklearn.metrics import f1_score\n",
    "from sklearn.metrics import confusion_matrix\n",
    "from sklearn.metrics import precision_score\n",
    "from sklearn.metrics import recall_score\n",
    "from sklearn.metrics import accuracy_score\n",
    "\n",
    "clf_knn1_bal = KNeighborsClassifier(n_neighbors = 1, n_jobs = -1)\n",
    "clf_knn1_bal.fit(train_data_bal, train_label_bal)\n",
    "pred_knn_bal = clf_knn1_bal.predict(test_data_bal)\n",
    "\n",
    "# Calculate Confusion matrix\n",
    "mat = confusion_matrix(test_label_bal, pred_knn_bal)\n",
    "print(\"Confusion Matrix\\n\", mat)\n",
    "tn, fp, fn, tp = mat.ravel()\n",
    "print(\"True Negative: \", tn)\n",
    "print(\"Flase Positive: \", fp)\n",
    "print(\"False Negative: \", fn)\n",
    "print(\"True Positive: \", tp)\n",
    "print('*' * 100)\n",
    "\n",
    "# Calculate Precision Score\n",
    "pre = precision_score(test_label_bal, pred_knn_bal, pos_label = 'True', average = 'binary')\n",
    "print('Precision for optimal Parameters is: ', pre)\n",
    "print('*' * 100)\n",
    "\n",
    "# Calculate Recall Score\n",
    "rec = recall_score(test_label_bal, pred_knn_bal, pos_label = 'True', average = 'binary')\n",
    "print('Recall Score for optimal Parameters is: ', rec)\n",
    "print('*' * 100)\n",
    "\n",
    "# Calculate f1 Score\n",
    "f1 = f1_score(test_label_bal, pred_knn_bal, pos_label = 'True', average = 'binary')\n",
    "print('f1 Score for Optimal Parameters is: ', f1)\n",
    "acc = accuracy_score(test_label_bal,pred_knn_bal)\n",
    "print('*' * 100)\n",
    "print(\"Accuracy for Otimal Parameters is: \", acc)"
   ]
  },
  {
   "cell_type": "markdown",
   "metadata": {},
   "source": [
    "**Observations**\n",
    "\n",
    "1. With Balanced dataset Accuracy increased to 96% and even prediction of 'True' values is much better with f1 score of 96%.\n",
    "2. Anyways it is a basic model will try with different models."
   ]
  },
  {
   "cell_type": "markdown",
   "metadata": {},
   "source": [
    "**Grid SearchCV to find Optimal Parameters in SVM RBF**"
   ]
  },
  {
   "cell_type": "code",
   "execution_count": 114,
   "metadata": {},
   "outputs": [
    {
     "name": "stdout",
     "output_type": "stream",
     "text": [
      "Classifier with optimal 'C', gamma values is:\n",
      " SVC(C=100, cache_size=200, class_weight=None, coef0=0.0,\n",
      "  decision_function_shape='ovr', degree=3, gamma=0.001, kernel='rbf',\n",
      "  max_iter=-1, probability=False, random_state=None, shrinking=True,\n",
      "  tol=0.001, verbose=False)\n",
      "****************************************************************************************************\n",
      "Best Score with optimal 'C', 'gamma values is:  0.8905753618072715\n",
      "****************************************************************************************************\n",
      "Optimal Parameters are:  {'C': 100, 'gamma': 0.001}\n",
      "****************************************************************************************************\n",
      "Accuracy score obtained on Test data is:  0.898\n"
     ]
    }
   ],
   "source": [
    "from sklearn.svm import SVC\n",
    "from sklearn.model_selection import GridSearchCV\n",
    "tuned_parameters = {'C': [0.0001,0.001, 0.01,0.1, 1, 10, 100, 1000],\n",
    "                    'gamma': [0.0001, 0.001, 0.01, 0.1, 1, 10, 100, 1000]}\n",
    "clf_rbf = GridSearchCV(SVC(kernel = 'rbf'), tuned_parameters, cv =10, n_jobs = -1, scoring = 'accuracy')\n",
    "clf_rbf.fit(train_data, train_label)\n",
    "\n",
    "print(\"Classifier with optimal 'C', gamma values is:\\n\", clf_rbf.best_estimator_)\n",
    "print('*' * 100)\n",
    "#print(\"Grid Scores \\n\", clf.grid_scores_)\n",
    "#print('*' * 100)\n",
    "print(\"Best Score with optimal 'C', 'gamma values is: \", clf_rbf.best_score_)\n",
    "print('*' * 100)\n",
    "print(\"Optimal Parameters are: \", clf_rbf.best_params_)\n",
    "print('*' * 100)\n",
    "#Calculate metrics\n",
    "print(\"Accuracy score obtained on Test data is: \", clf_rbf.score(test_data, test_label))"
   ]
  },
  {
   "cell_type": "markdown",
   "metadata": {},
   "source": [
    "**SVC Classifier with RBF Kernel using Optimal Hyper Parameters**"
   ]
  },
  {
   "cell_type": "code",
   "execution_count": 115,
   "metadata": {},
   "outputs": [
    {
     "name": "stdout",
     "output_type": "stream",
     "text": [
      "Confusion Matrix\n",
      " [[416   6]\n",
      " [ 45  33]]\n",
      "True Negative:  416\n",
      "Flase Positive:  6\n",
      "False Negative:  45\n",
      "True Positive:  33\n",
      "****************************************************************************************************\n",
      "Precision for optimal Parameters is:  0.8461538461538461\n",
      "****************************************************************************************************\n",
      "Recall Score for optimal Parameters is:  0.4230769230769231\n",
      "****************************************************************************************************\n",
      "f1 Score for Optimal Parameters is:  0.5641025641025641\n",
      "****************************************************************************************************\n",
      "Accuracy for Otimal Parameters is:  0.898\n"
     ]
    }
   ],
   "source": [
    "from sklearn.metrics import f1_score\n",
    "from sklearn.metrics import confusion_matrix\n",
    "from sklearn.metrics import precision_score\n",
    "from sklearn.metrics import recall_score\n",
    "from sklearn.metrics import accuracy_score\n",
    "\n",
    "model = SVC(C = 100 , gamma = 0.001, kernel = 'rbf')\n",
    "model.fit(train_data, train_label)\n",
    "pred = model.predict(test_data)\n",
    "\n",
    "# Calculate Confusion matrix\n",
    "mat = confusion_matrix(test_label, pred)\n",
    "print(\"Confusion Matrix\\n\", mat)\n",
    "tn, fp, fn, tp = mat.ravel()\n",
    "print(\"True Negative: \", tn)\n",
    "print(\"Flase Positive: \", fp)\n",
    "print(\"False Negative: \", fn)\n",
    "print(\"True Positive: \", tp)\n",
    "print('*' * 100)\n",
    "# Calculate Precision Score\n",
    "pre = precision_score(test_label, pred, pos_label = 'True', average = 'binary')\n",
    "print('Precision for optimal Parameters is: ', pre)\n",
    "print('*' * 100)\n",
    "# Calculate Recall Score\n",
    "rec = recall_score(test_label, pred, pos_label = 'True', average = 'binary')\n",
    "print('Recall Score for optimal Parameters is: ', rec)\n",
    "print('*' * 100)\n",
    "# Calculate f1 Score\n",
    "f1 = f1_score(test_label, pred, pos_label = 'True', average = 'binary')\n",
    "print('f1 Score for Optimal Parameters is: ', f1)\n",
    "acc = accuracy_score(test_label,pred)\n",
    "print('*' * 100)\n",
    "print(\"Accuracy for Otimal Parameters is: \", acc)"
   ]
  },
  {
   "cell_type": "markdown",
   "metadata": {},
   "source": [
    "**Observations**\n",
    "\n",
    "1.Performance is better than KNN with unbalanced dataset but less than KNN with Balancd dataset. Will try with Balanced dataset."
   ]
  },
  {
   "cell_type": "markdown",
   "metadata": {},
   "source": [
    "**Grid searchCV on SVC RBF Kernel with balanced dataset**"
   ]
  },
  {
   "cell_type": "code",
   "execution_count": 127,
   "metadata": {},
   "outputs": [
    {
     "name": "stdout",
     "output_type": "stream",
     "text": [
      "Classifier with optimal 'C', gamma values is:\n",
      " SVC(C=1, cache_size=200, class_weight=None, coef0=0.0,\n",
      "  decision_function_shape='ovr', degree=3, gamma=1, kernel='rbf',\n",
      "  max_iter=-1, probability=False, random_state=None, shrinking=True,\n",
      "  tol=0.001, verbose=False)\n",
      "****************************************************************************************************\n",
      "Best Score with optimal 'C', 'gamma values is:  0.9962848297213622\n",
      "****************************************************************************************************\n",
      "Optimal Parameters are:  {'C': 1, 'gamma': 1}\n",
      "****************************************************************************************************\n",
      "Accuracy score obtained on Test data is:  0.9964912280701754\n"
     ]
    }
   ],
   "source": [
    "from sklearn.svm import SVC\n",
    "from sklearn.model_selection import GridSearchCV\n",
    "tuned_parameters = {'C': [0.0001,0.001, 0.01,0.1, 1, 10, 100, 1000],\n",
    "                    'gamma': [0.0001, 0.001, 0.01, 0.1, 1, 10, 100, 1000]}\n",
    "clf_rbf_bal = GridSearchCV(SVC(kernel = 'rbf'), tuned_parameters, cv =10, n_jobs = -1, scoring = 'accuracy')\n",
    "clf_rbf_bal.fit(train_data_bal, train_label_bal)\n",
    "\n",
    "print(\"Classifier with optimal 'C', gamma values is:\\n\", clf_rbf_bal.best_estimator_)\n",
    "print('*' * 100)\n",
    "#print(\"Grid Scores \\n\", clf.grid_scores_)\n",
    "#print('*' * 100)\n",
    "print(\"Best Score with optimal 'C', 'gamma values is: \", clf_rbf_bal.best_score_)\n",
    "print('*' * 100)\n",
    "print(\"Optimal Parameters are: \", clf_rbf_bal.best_params_)\n",
    "print('*' * 100)\n",
    "#Calculate metrics\n",
    "print(\"Accuracy score obtained on Test data is: \", clf_rbf_bal.score(test_data_bal, test_label_bal))"
   ]
  },
  {
   "cell_type": "markdown",
   "metadata": {},
   "source": [
    "**SVC RBF Kernel with optimal Parameters on Balanced datset**"
   ]
  },
  {
   "cell_type": "code",
   "execution_count": 130,
   "metadata": {},
   "outputs": [
    {
     "name": "stdout",
     "output_type": "stream",
     "text": [
      "Confusion Matrix\n",
      " [[439   0]\n",
      " [  3 413]]\n",
      "True Negative:  439\n",
      "Flase Positive:  0\n",
      "False Negative:  3\n",
      "True Positive:  413\n",
      "****************************************************************************************************\n",
      "Precision for optimal Parameters is:  1.0\n",
      "****************************************************************************************************\n",
      "Recall Score for optimal Parameters is:  0.9927884615384616\n",
      "****************************************************************************************************\n",
      "f1 Score for Optimal Parameters is:  0.9963811821471652\n",
      "****************************************************************************************************\n",
      "Accuracy for Otimal Parameters is:  0.9964912280701754\n"
     ]
    }
   ],
   "source": [
    "model_bal = SVC(C = 1 , gamma = 1, kernel = 'rbf')\n",
    "model_bal.fit(train_data_bal, train_label_bal)\n",
    "pred = model_bal.predict(test_data_bal)\n",
    "\n",
    "# Calculate Confusion matrix\n",
    "mat = confusion_matrix(test_label_bal, pred)\n",
    "print(\"Confusion Matrix\\n\", mat)\n",
    "tn, fp, fn, tp = mat.ravel()\n",
    "print(\"True Negative: \", tn)\n",
    "print(\"Flase Positive: \", fp)\n",
    "print(\"False Negative: \", fn)\n",
    "print(\"True Positive: \", tp)\n",
    "print('*' * 100)\n",
    "# Calculate Precision Score\n",
    "pre = precision_score(test_label_bal, pred, pos_label = 'True', average = 'binary')\n",
    "print('Precision for optimal Parameters is: ', pre)\n",
    "print('*' * 100)\n",
    "# Calculate Recall Score\n",
    "rec = recall_score(test_label_bal, pred, pos_label = 'True', average = 'binary')\n",
    "print('Recall Score for optimal Parameters is: ', rec)\n",
    "print('*' * 100)\n",
    "# Calculate f1 Score\n",
    "f1 = f1_score(test_label_bal, pred, pos_label = 'True', average = 'binary')\n",
    "print('f1 Score for Optimal Parameters is: ', f1)\n",
    "acc = accuracy_score(test_label_bal,pred)\n",
    "print('*' * 100)\n",
    "print(\"Accuracy for Otimal Parameters is: \", acc)"
   ]
  },
  {
   "cell_type": "markdown",
   "metadata": {},
   "source": [
    "**Observations**\n",
    "\n",
    "1. Out of 439 'False' values all are predicted correctly and only 3 out of 416 values are predicted wrongly which are actually 'True'.\n",
    "2. 99.6% of times predictions are correct and Precision is 100%.\n"
   ]
  },
  {
   "cell_type": "markdown",
   "metadata": {},
   "source": [
    "**RandomForect Classifier with unbalanced datset**"
   ]
  },
  {
   "cell_type": "code",
   "execution_count": 131,
   "metadata": {},
   "outputs": [
    {
     "name": "stderr",
     "output_type": "stream",
     "text": [
      "C:\\Anaconda\\lib\\site-packages\\sklearn\\ensemble\\forest.py:453: UserWarning: Some inputs do not have OOB scores. This probably means too few trees were used to compute any reliable oob estimates.\n",
      "  warn(\"Some inputs do not have OOB scores. \"\n",
      "C:\\Anaconda\\lib\\site-packages\\sklearn\\ensemble\\forest.py:458: RuntimeWarning: invalid value encountered in true_divide\n",
      "  predictions[k].sum(axis=1)[:, np.newaxis])\n"
     ]
    },
    {
     "name": "stdout",
     "output_type": "stream",
     "text": [
      "[0.9128132721496647, 0.9202259089304624, 0.925520649488175, 0.9308153900458878, 0.9248146840804801, 0.9315213554535827, 0.9396399576420755]\n",
      "Optimal No of tress:  60\n"
     ]
    },
    {
     "data": {
      "image/png": "[encoded data removed]",
      "text/plain": [
       "<matplotlib.figure.Figure at 0x194c41d2b70>"
      ]
     },
     "metadata": {},
     "output_type": "display_data"
    }
   ],
   "source": [
    "import matplotlib.pyplot as plt\n",
    "from sklearn.ensemble import RandomForestClassifier\n",
    "params = [15, 20, 25, 30, 40, 50, 60]\n",
    "cv_scores = []\n",
    "for i in params:\n",
    "    model_rf = RandomForestClassifier(n_estimators = i, oob_score = True)\n",
    "    model_rf.fit(train_data, train_label)\n",
    "    score = model_rf.oob_score_\n",
    "    cv_scores.append(score)\n",
    "print(cv_scores)\n",
    "optimal_n = params[cv_scores.index(max(cv_scores))]\n",
    "print(\"Optimal No of tress: \", optimal_n)\n",
    "plt.plot(params, cv_scores)\n",
    "plt.xlabel(\"No of tress\")\n",
    "plt.ylabel(\"Accuracy Scores\")\n",
    "plt.title(\"Elbow Method\")\n",
    "plt.show()"
   ]
  },
  {
   "cell_type": "markdown",
   "metadata": {},
   "source": [
    "**RandomForestClassifier with optimal Hyper parameters**"
   ]
  },
  {
   "cell_type": "code",
   "execution_count": 145,
   "metadata": {},
   "outputs": [
    {
     "name": "stdout",
     "output_type": "stream",
     "text": [
      "Confusion Matrix\n",
      " [[422   0]\n",
      " [ 25  53]]\n",
      "True Negative:  422\n",
      "Flase Positive:  0\n",
      "False Negative:  25\n",
      "True Positive:  53\n",
      "****************************************************************************************************\n",
      "Precision for optimal Parameters is:  1.0\n",
      "****************************************************************************************************\n",
      "Recall Score for optimal Parameters is:  0.6794871794871795\n",
      "****************************************************************************************************\n",
      "f1 Score for Optimal Parameters is:  0.8091603053435115\n",
      "****************************************************************************************************\n",
      "Accuracy for Otimal Parameters is:  0.95\n"
     ]
    }
   ],
   "source": [
    "from sklearn.metrics import f1_score\n",
    "from sklearn.metrics import confusion_matrix\n",
    "from sklearn.metrics import precision_score\n",
    "from sklearn.metrics import recall_score\n",
    "from sklearn.metrics import accuracy_score\n",
    "\n",
    "model_rf = RandomForestClassifier(n_estimators = 60, n_jobs = -1)\n",
    "model_rf.fit(train_data, train_label)\n",
    "pred = model_rf.predict(test_data)\n",
    "\n",
    "# Calculate Confusion matrix\n",
    "mat = confusion_matrix(test_label, pred)\n",
    "print(\"Confusion Matrix\\n\", mat)\n",
    "tn, fp, fn, tp = mat.ravel()\n",
    "print(\"True Negative: \", tn)\n",
    "print(\"Flase Positive: \", fp)\n",
    "print(\"False Negative: \", fn)\n",
    "print(\"True Positive: \", tp)\n",
    "print('*' * 100)\n",
    "# Calculate Precision Score\n",
    "pre = precision_score(test_label, pred, pos_label = 'True', average = 'binary')\n",
    "print('Precision for optimal Parameters is: ', pre)\n",
    "print('*' * 100)\n",
    "# Calculate Recall Score\n",
    "rec = recall_score(test_label, pred, pos_label = 'True', average = 'binary')\n",
    "print('Recall Score for optimal Parameters is: ', rec)\n",
    "print('*' * 100)\n",
    "# Calculate f1 Score\n",
    "f1 = f1_score(test_label, pred, pos_label = 'True', average = 'binary')\n",
    "print('f1 Score for Optimal Parameters is: ', f1)\n",
    "acc = accuracy_score(test_label,pred)\n",
    "print('*' * 100)\n",
    "print(\"Accuracy for Otimal Parameters is: \", acc)"
   ]
  },
  {
   "cell_type": "markdown",
   "metadata": {},
   "source": [
    "**Observations**\n",
    "\n",
    "1. RandomForest Classifier works better than KNN and SVC RBF Kernel with balanced dataset.\n",
    "2. 95% of times model predicted correctly. 'False' values are predicted correctly but 25 out of 78 'True' values are predicted wrongly"
   ]
  },
  {
   "cell_type": "markdown",
   "metadata": {},
   "source": [
    "**Random Forest Classifier with balanced dataset**"
   ]
  },
  {
   "cell_type": "code",
   "execution_count": 146,
   "metadata": {},
   "outputs": [
    {
     "name": "stderr",
     "output_type": "stream",
     "text": [
      "C:\\Anaconda\\lib\\site-packages\\sklearn\\ensemble\\forest.py:453: UserWarning: Some inputs do not have OOB scores. This probably means too few trees were used to compute any reliable oob estimates.\n",
      "  warn(\"Some inputs do not have OOB scores. \"\n",
      "C:\\Anaconda\\lib\\site-packages\\sklearn\\ensemble\\forest.py:458: RuntimeWarning: invalid value encountered in true_divide\n",
      "  predictions[k].sum(axis=1)[:, np.newaxis])\n",
      "C:\\Anaconda\\lib\\site-packages\\sklearn\\ensemble\\forest.py:453: UserWarning: Some inputs do not have OOB scores. This probably means too few trees were used to compute any reliable oob estimates.\n",
      "  warn(\"Some inputs do not have OOB scores. \"\n",
      "C:\\Anaconda\\lib\\site-packages\\sklearn\\ensemble\\forest.py:458: RuntimeWarning: invalid value encountered in true_divide\n",
      "  predictions[k].sum(axis=1)[:, np.newaxis])\n"
     ]
    },
    {
     "name": "stdout",
     "output_type": "stream",
     "text": [
      "[0.9711042311661506, 0.9814241486068112, 0.9859649122807017, 0.9876160990712074, 0.9909184726522188, 0.9892672858617131, 0.9890608875128999, 0.9905056759545924]\n",
      "Optimal No of tress:  30\n"
     ]
    },
    {
     "data": {
      "image/png": "[encoded data removed]",
      "text/plain": [
       "<matplotlib.figure.Figure at 0x194c46cd5f8>"
      ]
     },
     "metadata": {},
     "output_type": "display_data"
    }
   ],
   "source": [
    "import matplotlib.pyplot as plt\n",
    "from sklearn.ensemble import RandomForestClassifier\n",
    "params = [10,15, 20, 25, 30, 40, 50, 60]\n",
    "cv_scores = []\n",
    "for i in params:\n",
    "    model_rf_bal = RandomForestClassifier(n_estimators = i, oob_score = True)\n",
    "    model_rf_bal.fit(train_data_bal, train_label_bal)\n",
    "    score = model_rf_bal.oob_score_\n",
    "    cv_scores.append(score)\n",
    "print(cv_scores)\n",
    "optimal_n = params[cv_scores.index(max(cv_scores))]\n",
    "print(\"Optimal No of tress: \", optimal_n)\n",
    "plt.plot(params, cv_scores)\n",
    "plt.xlabel(\"No of tress\")\n",
    "plt.ylabel(\"Accuracy Scores\")\n",
    "plt.title(\"Elbow Method\")\n",
    "plt.show()\n"
   ]
  },
  {
   "cell_type": "code",
   "execution_count": 149,
   "metadata": {},
   "outputs": [
    {
     "name": "stdout",
     "output_type": "stream",
     "text": [
      "Confusion Matrix\n",
      " [[434   5]\n",
      " [  3 413]]\n",
      "True Negative:  434\n",
      "Flase Positive:  5\n",
      "False Negative:  3\n",
      "True Positive:  413\n",
      "****************************************************************************************************\n",
      "Precision for optimal Parameters is:  0.9880382775119617\n",
      "****************************************************************************************************\n",
      "Recall Score for optimal Parameters is:  0.9927884615384616\n",
      "****************************************************************************************************\n",
      "f1 Score for Optimal Parameters is:  0.9904076738609113\n",
      "****************************************************************************************************\n",
      "Accuracy for Otimal Parameters is:  0.9906432748538012\n"
     ]
    }
   ],
   "source": [
    "model_rf_bal = RandomForestClassifier(n_estimators = 30, n_jobs = -1)\n",
    "model_rf_bal.fit(train_data_bal, train_label_bal)\n",
    "pred = model_rf_bal.predict(test_data_bal)\n",
    "\n",
    "# Calculate Confusion matrix\n",
    "mat = confusion_matrix(test_label_bal, pred)\n",
    "print(\"Confusion Matrix\\n\", mat)\n",
    "tn, fp, fn, tp = mat.ravel()\n",
    "print(\"True Negative: \", tn)\n",
    "print(\"Flase Positive: \", fp)\n",
    "print(\"False Negative: \", fn)\n",
    "print(\"True Positive: \", tp)\n",
    "print('*' * 100)\n",
    "# Calculate Precision Score\n",
    "pre = precision_score(test_label_bal, pred, pos_label = 'True', average = 'binary')\n",
    "print('Precision for optimal Parameters is: ', pre)\n",
    "print('*' * 100)\n",
    "# Calculate Recall Score\n",
    "rec = recall_score(test_label_bal, pred, pos_label = 'True', average = 'binary')\n",
    "print('Recall Score for optimal Parameters is: ', rec)\n",
    "print('*' * 100)\n",
    "# Calculate f1 Score\n",
    "f1 = f1_score(test_label_bal, pred, pos_label = 'True', average = 'binary')\n",
    "print('f1 Score for Optimal Parameters is: ', f1)\n",
    "acc = accuracy_score(test_label_bal,pred)\n",
    "print('*' * 100)\n",
    "print(\"Accuracy for Otimal Parameters is: \", acc)"
   ]
  },
  {
   "cell_type": "markdown",
   "metadata": {},
   "source": [
    "**Observations**\n",
    "\n",
    "1. Random Forest Classifier predicts 99.1% of times predicted correctly like SVC RBF Kernel"
   ]
  },
  {
   "cell_type": "markdown",
   "metadata": {},
   "source": [
    "**Feature Importance**"
   ]
  },
  {
   "cell_type": "code",
   "execution_count": 163,
   "metadata": {},
   "outputs": [
    {
     "name": "stdout",
     "output_type": "stream",
     "text": [
      "Top 10 Features:\n",
      " Index(['CustServ Calls', 'Day Mins', 'Day Charge', 'Int'l Plan', 'Eve Charge',\n",
      "       'Eve Mins', 'Intl Mins', 'Intl Charge', 'Night Charge', 'Intl Calls'],\n",
      "      dtype='object')\n"
     ]
    }
   ],
   "source": [
    "feature_imp = model_rf_bal.feature_importances_\n",
    "#Sort the features\n",
    "feature_sort = feature_imp.argsort()\n",
    "#Sort in descending order\n",
    "feature_descending = feature_sort[::-1]\n",
    "top_10_features = np.take(df_bal.columns, feature_descending[:10])\n",
    "print(\"Top 10 Features:\\n\", top_10_features)"
   ]
  },
  {
   "cell_type": "markdown",
   "metadata": {},
   "source": [
    "**Horizontal Bar Plot for feature Importances**"
   ]
  },
  {
   "cell_type": "code",
   "execution_count": 175,
   "metadata": {},
   "outputs": [
    {
     "data": {
      "image/png": "[encoded data removed]",
      "text/plain": [
       "<matplotlib.figure.Figure at 0x194caf8efd0>"
      ]
     },
     "metadata": {},
     "output_type": "display_data"
    }
   ],
   "source": [
    "plt.title('Feature Importances')\n",
    "plt.barh(range(len(feature_descending[:10])), feature_imp[feature_descending[:10]], color='b', align='center')\n",
    "plt.yticks(range(len(feature_descending[:10])), [df_bal.columns[i] for i in feature_descending[:10]])\n",
    "plt.xlabel('Relative Importance')\n",
    "plt.show()"
   ]
  },
  {
   "cell_type": "markdown",
   "metadata": {},
   "source": [
    "**Function to predict the Churn of a Customer for given customized input**"
   ]
  },
  {
   "cell_type": "code",
   "execution_count": 169,
   "metadata": {},
   "outputs": [
    {
     "name": "stdout",
     "output_type": "stream",
     "text": [
      "Churn Prediction of a customer for given customized input:  ['False']\n"
     ]
    }
   ],
   "source": [
    "def shooter(customized_input):\n",
    "    pred = model_rf_bal.predict(customized_input)\n",
    "    return pred\n",
    "    \n",
    "prediction = shooter(churn_array_balance[40].reshape(1,-1))\n",
    "print(\"Churn Prediction of a customer for given customized input: \", prediction)"
   ]
  },
  {
   "cell_type": "markdown",
   "metadata": {},
   "source": [
    "**Summary**\n",
    "1. Imabalnced datasets affect model performances,most Importantly for KNN model.\n",
    "2. Random Forest and SVC with RBF Kernel performed better than KNN Base model.\n",
    "3. Feature Importances are obatined for Random Forest model.\n",
    "4. Customized function to predict churn of a customer for given set of input parameters.\n",
    "5. 99% of times Model Predictions are correct."
   ]
  },
  {
   "cell_type": "code",
   "execution_count": null,
   "metadata": {},
   "outputs": [],
   "source": []
  }
 ],
 "metadata": {
  "kernelspec": {
   "display_name": "Python [default]",
   "language": "python",
   "name": "python3"
  },
  "language_info": {
   "codemirror_mode": {
    "name": "ipython",
    "version": 3
   },
   "file_extension": ".py",
   "mimetype": "text/x-python",
   "name": "python",
   "nbconvert_exporter": "python",
   "pygments_lexer": "ipython3",
   "version": "3.6.4"
  }
 },
 "nbformat": 4,
 "nbformat_minor": 2
}
